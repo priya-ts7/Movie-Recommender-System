{
  "nbformat": 4,
  "nbformat_minor": 0,
  "metadata": {
    "colab": {
      "name": "data_analysis.ipynb",
      "provenance": []
    },
    "kernelspec": {
      "name": "python3",
      "display_name": "Python 3"
    }
  },
  "cells": [
    {
      "cell_type": "markdown",
      "metadata": {
        "id": "W5IqfrpUBihc"
      },
      "source": [
        "# **Data Analysis**"
      ]
    },
    {
      "cell_type": "code",
      "metadata": {
        "id": "K92onYFHhEfX"
      },
      "source": [
        "import pandas as pd\n",
        "import matplotlib.pyplot as plt \n",
        "import numpy as np"
      ],
      "execution_count": 61,
      "outputs": []
    },
    {
      "cell_type": "code",
      "metadata": {
        "colab": {
          "base_uri": "https://localhost:8080/",
          "height": 204
        },
        "id": "ohVBfEWChTEt",
        "outputId": "85d3f8a6-7fb2-4ad2-9409-4a432a998d2a"
      },
      "source": [
        "ratings_data = pd.read_csv('/ratings.csv')\n",
        "ratings_data.head()"
      ],
      "execution_count": 62,
      "outputs": [
        {
          "output_type": "execute_result",
          "data": {
            "text/html": [
              "<div>\n",
              "<style scoped>\n",
              "    .dataframe tbody tr th:only-of-type {\n",
              "        vertical-align: middle;\n",
              "    }\n",
              "\n",
              "    .dataframe tbody tr th {\n",
              "        vertical-align: top;\n",
              "    }\n",
              "\n",
              "    .dataframe thead th {\n",
              "        text-align: right;\n",
              "    }\n",
              "</style>\n",
              "<table border=\"1\" class=\"dataframe\">\n",
              "  <thead>\n",
              "    <tr style=\"text-align: right;\">\n",
              "      <th></th>\n",
              "      <th>userId</th>\n",
              "      <th>movieId</th>\n",
              "      <th>rating</th>\n",
              "      <th>timestamp</th>\n",
              "    </tr>\n",
              "  </thead>\n",
              "  <tbody>\n",
              "    <tr>\n",
              "      <th>0</th>\n",
              "      <td>1</td>\n",
              "      <td>31</td>\n",
              "      <td>2.5</td>\n",
              "      <td>1260759144</td>\n",
              "    </tr>\n",
              "    <tr>\n",
              "      <th>1</th>\n",
              "      <td>1</td>\n",
              "      <td>1029</td>\n",
              "      <td>3.0</td>\n",
              "      <td>1260759179</td>\n",
              "    </tr>\n",
              "    <tr>\n",
              "      <th>2</th>\n",
              "      <td>1</td>\n",
              "      <td>1061</td>\n",
              "      <td>3.0</td>\n",
              "      <td>1260759182</td>\n",
              "    </tr>\n",
              "    <tr>\n",
              "      <th>3</th>\n",
              "      <td>1</td>\n",
              "      <td>1129</td>\n",
              "      <td>2.0</td>\n",
              "      <td>1260759185</td>\n",
              "    </tr>\n",
              "    <tr>\n",
              "      <th>4</th>\n",
              "      <td>1</td>\n",
              "      <td>1172</td>\n",
              "      <td>4.0</td>\n",
              "      <td>1260759205</td>\n",
              "    </tr>\n",
              "  </tbody>\n",
              "</table>\n",
              "</div>"
            ],
            "text/plain": [
              "   userId  movieId  rating   timestamp\n",
              "0       1       31     2.5  1260759144\n",
              "1       1     1029     3.0  1260759179\n",
              "2       1     1061     3.0  1260759182\n",
              "3       1     1129     2.0  1260759185\n",
              "4       1     1172     4.0  1260759205"
            ]
          },
          "metadata": {
            "tags": []
          },
          "execution_count": 62
        }
      ]
    },
    {
      "cell_type": "code",
      "metadata": {
        "colab": {
          "base_uri": "https://localhost:8080/"
        },
        "id": "K0j7gkP9iJqN",
        "outputId": "486d020f-e5e3-4f68-b889-388b0aac40ba"
      },
      "source": [
        "print(ratings_data.shape)"
      ],
      "execution_count": 63,
      "outputs": [
        {
          "output_type": "stream",
          "text": [
            "(100004, 4)\n"
          ],
          "name": "stdout"
        }
      ]
    },
    {
      "cell_type": "code",
      "metadata": {
        "colab": {
          "base_uri": "https://localhost:8080/"
        },
        "id": "KS2326griaiq",
        "outputId": "d3a83d64-e4cb-4cd9-fb64-ac5d11b2a670"
      },
      "source": [
        "num_users = len(pd.unique(ratings_data['userId']))\n",
        "print(\"Number of users:\" ,num_users)"
      ],
      "execution_count": 64,
      "outputs": [
        {
          "output_type": "stream",
          "text": [
            "Number of users: 671\n"
          ],
          "name": "stdout"
        }
      ]
    },
    {
      "cell_type": "code",
      "metadata": {
        "colab": {
          "base_uri": "https://localhost:8080/"
        },
        "id": "Us7r8QZVjez1",
        "outputId": "aedd0aa9-b217-4553-ff5b-406c12b5d1f9"
      },
      "source": [
        "num_movies = len(pd.unique(ratings_data['movieId']))\n",
        "print(\"Number of movies:\" ,num_movies)"
      ],
      "execution_count": 65,
      "outputs": [
        {
          "output_type": "stream",
          "text": [
            "Number of movies: 9066\n"
          ],
          "name": "stdout"
        }
      ]
    },
    {
      "cell_type": "code",
      "metadata": {
        "colab": {
          "base_uri": "https://localhost:8080/",
          "height": 318
        },
        "id": "A4bQVL-0j593",
        "outputId": "665d75ba-8ce6-4157-f4b7-8aed60c350fa"
      },
      "source": [
        "movie_count = ratings_data.groupby(\"userId\").size()\n",
        "plt.figure()\n",
        "movie_count.plot()\n",
        "plt.title(\"Number of movies rated by each user\", fontsize=16)\n",
        "plt.ylabel(\"No. of Movies\", fontsize=14)\n",
        "plt.xlabel(\"Users\", fontsize=14)"
      ],
      "execution_count": 66,
      "outputs": [
        {
          "output_type": "execute_result",
          "data": {
            "text/plain": [
              "Text(0.5, 0, 'Users')"
            ]
          },
          "metadata": {
            "tags": []
          },
          "execution_count": 66
        },
        {
          "output_type": "display_data",
          "data": {
            "image/png": "[encoded data removed]",
            "text/plain": [
              "<Figure size 432x288 with 1 Axes>"
            ]
          },
          "metadata": {
            "tags": [],
            "needs_background": "light"
          }
        }
      ]
    },
    {
      "cell_type": "markdown",
      "metadata": {
        "id": "p9DZHUZb5qkw"
      },
      "source": [
        "The above graph shows how **sparse** the data is. While there are 9000+ movies, most users have rated less than 10% of the available movies and a small percentage of the users have rated over 15% of the movies.\n"
      ]
    },
    {
      "cell_type": "code",
      "metadata": {
        "colab": {
          "base_uri": "https://localhost:8080/",
          "height": 318
        },
        "id": "VhZKX4FXpB13",
        "outputId": "344f5f7b-8b0e-4a5a-d16e-aecda6568e54"
      },
      "source": [
        "user_count = ratings_data.groupby(\"movieId\").size()\n",
        "plt.figure()\n",
        "user_count.dropna().plot()\n",
        "plt.title(\"Number of ratings received by movies\", fontsize=16)\n",
        "plt.ylabel(\"No. of Ratings\", fontsize=14)\n",
        "plt.xlabel(\"Movies\", fontsize=14)"
      ],
      "execution_count": 67,
      "outputs": [
        {
          "output_type": "execute_result",
          "data": {
            "text/plain": [
              "Text(0.5, 0, 'Movies')"
            ]
          },
          "metadata": {
            "tags": []
          },
          "execution_count": 67
        },
        {
          "output_type": "display_data",
          "data": {
            "image/png": "[encoded data removed]",
            "text/plain": [
              "<Figure size 432x288 with 1 Axes>"
            ]
          },
          "metadata": {
            "tags": [],
            "needs_background": "light"
          }
        }
      ]
    },
    {
      "cell_type": "markdown",
      "metadata": {
        "id": "NwVdjw4a6f5d"
      },
      "source": [
        "The above graph depicts the \"**long tail**\" aspect of handling recommendations. What this means is that, there are a few very popular movies that have been rated by a lot of users and most other movies have been rated by very few users. So, while making top-N recommendations it's imporatnt to strike a balance between showing popular stuff and novelty of recommendations."
      ]
    },
    {
      "cell_type": "code",
      "metadata": {
        "colab": {
          "base_uri": "https://localhost:8080/",
          "height": 204
        },
        "id": "n3C5DEDJ6fQ-",
        "outputId": "89cd50c9-1ed6-4975-c7eb-2d831965f6b3"
      },
      "source": [
        "movies_data = pd.read_csv('/movies.csv')\n",
        "movies_data.head()"
      ],
      "execution_count": 68,
      "outputs": [
        {
          "output_type": "execute_result",
          "data": {
            "text/html": [
              "<div>\n",
              "<style scoped>\n",
              "    .dataframe tbody tr th:only-of-type {\n",
              "        vertical-align: middle;\n",
              "    }\n",
              "\n",
              "    .dataframe tbody tr th {\n",
              "        vertical-align: top;\n",
              "    }\n",
              "\n",
              "    .dataframe thead th {\n",
              "        text-align: right;\n",
              "    }\n",
              "</style>\n",
              "<table border=\"1\" class=\"dataframe\">\n",
              "  <thead>\n",
              "    <tr style=\"text-align: right;\">\n",
              "      <th></th>\n",
              "      <th>movieId</th>\n",
              "      <th>title</th>\n",
              "      <th>genres</th>\n",
              "    </tr>\n",
              "  </thead>\n",
              "  <tbody>\n",
              "    <tr>\n",
              "      <th>0</th>\n",
              "      <td>1</td>\n",
              "      <td>Toy Story (1995)</td>\n",
              "      <td>Adventure|Animation|Children|Comedy|Fantasy</td>\n",
              "    </tr>\n",
              "    <tr>\n",
              "      <th>1</th>\n",
              "      <td>2</td>\n",
              "      <td>Jumanji (1995)</td>\n",
              "      <td>Adventure|Children|Fantasy</td>\n",
              "    </tr>\n",
              "    <tr>\n",
              "      <th>2</th>\n",
              "      <td>3</td>\n",
              "      <td>Grumpier Old Men (1995)</td>\n",
              "      <td>Comedy|Romance</td>\n",
              "    </tr>\n",
              "    <tr>\n",
              "      <th>3</th>\n",
              "      <td>4</td>\n",
              "      <td>Waiting to Exhale (1995)</td>\n",
              "      <td>Comedy|Drama|Romance</td>\n",
              "    </tr>\n",
              "    <tr>\n",
              "      <th>4</th>\n",
              "      <td>5</td>\n",
              "      <td>Father of the Bride Part II (1995)</td>\n",
              "      <td>Comedy</td>\n",
              "    </tr>\n",
              "  </tbody>\n",
              "</table>\n",
              "</div>"
            ],
            "text/plain": [
              "   movieId  ...                                       genres\n",
              "0        1  ...  Adventure|Animation|Children|Comedy|Fantasy\n",
              "1        2  ...                   Adventure|Children|Fantasy\n",
              "2        3  ...                               Comedy|Romance\n",
              "3        4  ...                         Comedy|Drama|Romance\n",
              "4        5  ...                                       Comedy\n",
              "\n",
              "[5 rows x 3 columns]"
            ]
          },
          "metadata": {
            "tags": []
          },
          "execution_count": 68
        }
      ]
    },
    {
      "cell_type": "code",
      "metadata": {
        "colab": {
          "base_uri": "https://localhost:8080/"
        },
        "id": "fk1kxyHB76PS",
        "outputId": "83af6066-81e4-40a4-8e21-29890c27bd67"
      },
      "source": [
        "genres = set()\n",
        "for s in movies_data['genres'].str.split('|').values:\n",
        "    genres = genres.union(set(s))\n",
        "print(np.unique(genres))"
      ],
      "execution_count": 55,
      "outputs": [
        {
          "output_type": "stream",
          "text": [
            "[{'Children', 'Documentary', 'Sci-Fi', 'Drama', 'Thriller', 'Action', 'Horror', '(no genres listed)', 'Adventure', 'Crime', 'Romance', 'Animation', 'Mystery', 'Film-Noir', 'Western', 'IMAX', 'Comedy', 'Fantasy', 'Musical', 'War'}]\n"
          ],
          "name": "stdout"
        }
      ]
    },
    {
      "cell_type": "code",
      "metadata": {
        "colab": {
          "base_uri": "https://localhost:8080/",
          "height": 204
        },
        "id": "rpN9KaZQ-bTL",
        "outputId": "43b0e043-b714-45a8-cc74-52de2d74b9fd"
      },
      "source": [
        "movie_ratings= pd.merge(ratings_data, movies_data, on='movieId')\n",
        "movie_ratings.head()"
      ],
      "execution_count": 71,
      "outputs": [
        {
          "output_type": "execute_result",
          "data": {
            "text/html": [
              "<div>\n",
              "<style scoped>\n",
              "    .dataframe tbody tr th:only-of-type {\n",
              "        vertical-align: middle;\n",
              "    }\n",
              "\n",
              "    .dataframe tbody tr th {\n",
              "        vertical-align: top;\n",
              "    }\n",
              "\n",
              "    .dataframe thead th {\n",
              "        text-align: right;\n",
              "    }\n",
              "</style>\n",
              "<table border=\"1\" class=\"dataframe\">\n",
              "  <thead>\n",
              "    <tr style=\"text-align: right;\">\n",
              "      <th></th>\n",
              "      <th>userId</th>\n",
              "      <th>movieId</th>\n",
              "      <th>rating</th>\n",
              "      <th>timestamp</th>\n",
              "      <th>title</th>\n",
              "      <th>genres</th>\n",
              "    </tr>\n",
              "  </thead>\n",
              "  <tbody>\n",
              "    <tr>\n",
              "      <th>0</th>\n",
              "      <td>1</td>\n",
              "      <td>31</td>\n",
              "      <td>2.5</td>\n",
              "      <td>1260759144</td>\n",
              "      <td>Dangerous Minds (1995)</td>\n",
              "      <td>Drama</td>\n",
              "    </tr>\n",
              "    <tr>\n",
              "      <th>1</th>\n",
              "      <td>7</td>\n",
              "      <td>31</td>\n",
              "      <td>3.0</td>\n",
              "      <td>851868750</td>\n",
              "      <td>Dangerous Minds (1995)</td>\n",
              "      <td>Drama</td>\n",
              "    </tr>\n",
              "    <tr>\n",
              "      <th>2</th>\n",
              "      <td>31</td>\n",
              "      <td>31</td>\n",
              "      <td>4.0</td>\n",
              "      <td>1273541953</td>\n",
              "      <td>Dangerous Minds (1995)</td>\n",
              "      <td>Drama</td>\n",
              "    </tr>\n",
              "    <tr>\n",
              "      <th>3</th>\n",
              "      <td>32</td>\n",
              "      <td>31</td>\n",
              "      <td>4.0</td>\n",
              "      <td>834828440</td>\n",
              "      <td>Dangerous Minds (1995)</td>\n",
              "      <td>Drama</td>\n",
              "    </tr>\n",
              "    <tr>\n",
              "      <th>4</th>\n",
              "      <td>36</td>\n",
              "      <td>31</td>\n",
              "      <td>3.0</td>\n",
              "      <td>847057202</td>\n",
              "      <td>Dangerous Minds (1995)</td>\n",
              "      <td>Drama</td>\n",
              "    </tr>\n",
              "  </tbody>\n",
              "</table>\n",
              "</div>"
            ],
            "text/plain": [
              "   userId  movieId  rating   timestamp                   title genres\n",
              "0       1       31     2.5  1260759144  Dangerous Minds (1995)  Drama\n",
              "1       7       31     3.0   851868750  Dangerous Minds (1995)  Drama\n",
              "2      31       31     4.0  1273541953  Dangerous Minds (1995)  Drama\n",
              "3      32       31     4.0   834828440  Dangerous Minds (1995)  Drama\n",
              "4      36       31     3.0   847057202  Dangerous Minds (1995)  Drama"
            ]
          },
          "metadata": {
            "tags": []
          },
          "execution_count": 71
        }
      ]
    },
    {
      "cell_type": "markdown",
      "metadata": {
        "id": "zdE1-VkiBKpc"
      },
      "source": [
        "### All the movies rated by a test user:"
      ]
    },
    {
      "cell_type": "code",
      "metadata": {
        "colab": {
          "base_uri": "https://localhost:8080/",
          "height": 419
        },
        "id": "Ql6pJXo4AnBM",
        "outputId": "6d99e038-ba3a-4da1-a35e-81dcbc39e0e7"
      },
      "source": [
        "test_user = movie_ratings[movie_ratings['userId'] == 85]\n",
        "test_user"
      ],
      "execution_count": 72,
      "outputs": [
        {
          "output_type": "execute_result",
          "data": {
            "text/html": [
              "<div>\n",
              "<style scoped>\n",
              "    .dataframe tbody tr th:only-of-type {\n",
              "        vertical-align: middle;\n",
              "    }\n",
              "\n",
              "    .dataframe tbody tr th {\n",
              "        vertical-align: top;\n",
              "    }\n",
              "\n",
              "    .dataframe thead th {\n",
              "        text-align: right;\n",
              "    }\n",
              "</style>\n",
              "<table border=\"1\" class=\"dataframe\">\n",
              "  <thead>\n",
              "    <tr style=\"text-align: right;\">\n",
              "      <th></th>\n",
              "      <th>userId</th>\n",
              "      <th>movieId</th>\n",
              "      <th>rating</th>\n",
              "      <th>timestamp</th>\n",
              "      <th>title</th>\n",
              "      <th>genres</th>\n",
              "    </tr>\n",
              "  </thead>\n",
              "  <tbody>\n",
              "    <tr>\n",
              "      <th>927</th>\n",
              "      <td>85</td>\n",
              "      <td>10</td>\n",
              "      <td>5.0</td>\n",
              "      <td>837507143</td>\n",
              "      <td>GoldenEye (1995)</td>\n",
              "      <td>Action|Adventure|Thriller</td>\n",
              "    </tr>\n",
              "    <tr>\n",
              "      <th>1811</th>\n",
              "      <td>85</td>\n",
              "      <td>110</td>\n",
              "      <td>5.0</td>\n",
              "      <td>837506903</td>\n",
              "      <td>Braveheart (1995)</td>\n",
              "      <td>Action|Drama|War</td>\n",
              "    </tr>\n",
              "    <tr>\n",
              "      <th>2248</th>\n",
              "      <td>85</td>\n",
              "      <td>153</td>\n",
              "      <td>4.0</td>\n",
              "      <td>837506803</td>\n",
              "      <td>Batman Forever (1995)</td>\n",
              "      <td>Action|Adventure|Comedy|Crime</td>\n",
              "    </tr>\n",
              "    <tr>\n",
              "      <th>2370</th>\n",
              "      <td>85</td>\n",
              "      <td>161</td>\n",
              "      <td>4.0</td>\n",
              "      <td>837507117</td>\n",
              "      <td>Crimson Tide (1995)</td>\n",
              "      <td>Drama|Thriller|War</td>\n",
              "    </tr>\n",
              "    <tr>\n",
              "      <th>2460</th>\n",
              "      <td>85</td>\n",
              "      <td>165</td>\n",
              "      <td>4.0</td>\n",
              "      <td>837506796</td>\n",
              "      <td>Die Hard: With a Vengeance (1995)</td>\n",
              "      <td>Action|Crime|Thriller</td>\n",
              "    </tr>\n",
              "    <tr>\n",
              "      <th>...</th>\n",
              "      <td>...</td>\n",
              "      <td>...</td>\n",
              "      <td>...</td>\n",
              "      <td>...</td>\n",
              "      <td>...</td>\n",
              "      <td>...</td>\n",
              "    </tr>\n",
              "    <tr>\n",
              "      <th>88188</th>\n",
              "      <td>85</td>\n",
              "      <td>275</td>\n",
              "      <td>3.0</td>\n",
              "      <td>837512134</td>\n",
              "      <td>Mixed Nuts (1994)</td>\n",
              "      <td>Comedy</td>\n",
              "    </tr>\n",
              "    <tr>\n",
              "      <th>88193</th>\n",
              "      <td>85</td>\n",
              "      <td>291</td>\n",
              "      <td>1.0</td>\n",
              "      <td>837512611</td>\n",
              "      <td>Poison Ivy II (1996)</td>\n",
              "      <td>Drama|Thriller</td>\n",
              "    </tr>\n",
              "    <tr>\n",
              "      <th>88199</th>\n",
              "      <td>85</td>\n",
              "      <td>437</td>\n",
              "      <td>3.0</td>\n",
              "      <td>837512344</td>\n",
              "      <td>Cops and Robbersons (1994)</td>\n",
              "      <td>Comedy</td>\n",
              "    </tr>\n",
              "    <tr>\n",
              "      <th>88203</th>\n",
              "      <td>85</td>\n",
              "      <td>546</td>\n",
              "      <td>1.0</td>\n",
              "      <td>837512482</td>\n",
              "      <td>Super Mario Bros. (1993)</td>\n",
              "      <td>Action|Adventure|Children|Comedy|Fantasy|Sci-Fi</td>\n",
              "    </tr>\n",
              "    <tr>\n",
              "      <th>88220</th>\n",
              "      <td>85</td>\n",
              "      <td>548</td>\n",
              "      <td>4.0</td>\n",
              "      <td>837512388</td>\n",
              "      <td>Terminal Velocity (1994)</td>\n",
              "      <td>Action|Mystery|Thriller</td>\n",
              "    </tr>\n",
              "  </tbody>\n",
              "</table>\n",
              "<p>107 rows × 6 columns</p>\n",
              "</div>"
            ],
            "text/plain": [
              "       userId  ...                                           genres\n",
              "927        85  ...                        Action|Adventure|Thriller\n",
              "1811       85  ...                                 Action|Drama|War\n",
              "2248       85  ...                    Action|Adventure|Comedy|Crime\n",
              "2370       85  ...                               Drama|Thriller|War\n",
              "2460       85  ...                            Action|Crime|Thriller\n",
              "...       ...  ...                                              ...\n",
              "88188      85  ...                                           Comedy\n",
              "88193      85  ...                                   Drama|Thriller\n",
              "88199      85  ...                                           Comedy\n",
              "88203      85  ...  Action|Adventure|Children|Comedy|Fantasy|Sci-Fi\n",
              "88220      85  ...                          Action|Mystery|Thriller\n",
              "\n",
              "[107 rows x 6 columns]"
            ]
          },
          "metadata": {
            "tags": []
          },
          "execution_count": 72
        }
      ]
    }
  ]
}